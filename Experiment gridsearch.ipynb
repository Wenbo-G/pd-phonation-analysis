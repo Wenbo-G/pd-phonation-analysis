{
 "cells": [
  {
   "cell_type": "markdown",
   "metadata": {},
   "source": [
    "# This contains the methods and models for the paper \"Has machine learning over-promised in healthcare?\"\n",
    "\n",
    "It contains the models: \n",
    "- ozkan (Model A in the paper): PCA with nearest neighbours https://doi.org/10.3390/e18040115\n",
    "- caliskan (Model B in the paper): stacked auto encoder https://electricajournal.org/Content/files/sayilar/58/3311-3318.pdf\n",
    "- ulhaq (Model C in the paper): SVM with feature selection https://ieeexplore.ieee.org/stamp/stamp.jsp?tp=&arnumber=8672565"
   ]
  },
  {
   "cell_type": "markdown",
   "metadata": {},
   "source": [
    "## Load and prepare/preprocess data\n",
    "OPD is the Oxford Parkinsons Disease dataset, retrieved from UCI. This was originally created by Max Little, and is used extensively in PD classification research (https://archive.ics.uci.edu/ml/datasets/parkinsons)\n",
    "\n",
    "mPower is the larger dataset, from the mPower study, a Parkinsons mobile application developed by Sage Bionetworks and described in Synpase (doi:10.7303/syn4993293)."
   ]
  },
  {
   "cell_type": "code",
   "execution_count": null,
   "metadata": {},
   "outputs": [],
   "source": [
    "import pandas as pd\n",
    "import dataHandler as dh\n",
    "from os.path import join\n",
    "\n",
    "OPD_samples = pd.read_csv(join('Data','OPD_data.csv'))\n",
    "OPD_participants = pd.read_csv(join('Data','OPD_participants.csv'))\n",
    "\n",
    "print('One of the participants (S31) does not have demographic data (i.e., age and gender), which is why their submissions are missing from counts that include anything to do with gender or age\\n')\n",
    "\n",
    "dh.OPD_summary(OPD_samples, OPD_participants)"
   ]
  },
  {
   "cell_type": "code",
   "execution_count": null,
   "metadata": {},
   "outputs": [],
   "source": [
    "import dataLoader as dl\n",
    "import mPower_data_adjustments as mda\n",
    "\n",
    "#load the original submission data, the features extracted from them, and information needed to filter them\n",
    "submissions = dl.pickleLoad(join('Data','submissions_Full.pickle'))\n",
    "features = dl.pickleLoad(join('Data','combinedFeatures.pickle'))\n",
    "d2 = dl.pickleLoad(join('Data','d2Feature5.pickle'))\n",
    "rms_energy = dl.pickleLoad(join('Data','rms_energy_notNormalised.pickle'))\n",
    "\n",
    "features.rename(columns={'recordID':'recordId'},inplace=True)\n",
    "d2 = d2[d2['d2'] != 'nan'] #drop nans in d2\n",
    "\n",
    "#filter out bad submissions and see how many remains\n",
    "rms_energy = rms_energy[rms_energy['rms_1_mean'] > 300] #250\n",
    "rms_energy = rms_energy[rms_energy['rms_1_std'] < 2000] #2500\n",
    "rms_energy = rms_energy[rms_energy['energy_1_mean'] > 50000] #45000\n",
    "features = features[features['Degree of voice breaks (%)'] < 30] #40\n",
    "features = features[features['Fraction of locally unvoiced frames (%)'] < 30]#40\n",
    "\n",
    "#combine them and see how many remains\n",
    "mPower_samples = pd.merge(rms_energy['recordId'],submissions,on='recordId')\n",
    "mPower_samples = pd.merge(mPower_samples,features,on='recordId')\n",
    "mPower_samples = mPower_samples.merge(d2[['recordId','d2']],on='recordId',how='inner')\n",
    "mPower_samples = mPower_samples[~(mPower_samples['gender'] == 'Prefer not to answer')] #retains only male and female\n",
    "\n",
    "#Remove samples that I found were bad, by looking at the 10 most extreme values for all 22 features and listening\n",
    "mPower_samples = mda.remove_bad_samples(mPower_samples)\n",
    "\n",
    "#Recalculate spread1 and spread2, the original was wrong.\n",
    "mPower_samples = mda.recalculate_spreads(mPower_samples)\n",
    "\n",
    "#Adjust the scale of several mPower features to be on the same scale as OPD. \n",
    "#Things like Jitter (%) is currently 2%, but in OPD features would be 0.02\n",
    "mPower_samples = mda.adjust_feature_scale(mPower_samples)\n",
    "\n",
    "mPower_participants = mPower_samples.drop_duplicates(subset=['healthCode'])[['healthCode', 'age', 'diagnosis-year','gender','onset-year','professional-diagnosis']]\n",
    "\n",
    "#print summary of the dataset\n",
    "dh.mPower_summary(mPower_samples, mPower_participants)"
   ]
  },
  {
   "cell_type": "markdown",
   "metadata": {},
   "source": [
    "## Load and evaluate the models (UNMODIFIED)"
   ]
  },
  {
   "cell_type": "code",
   "execution_count": null,
   "metadata": {},
   "outputs": [],
   "source": [
    "from ozkan_model import ozkan\n",
    "from caliskan_model import caliskan\n",
    "from ulhaq_model import ulhaq\n",
    "\n",
    "import itertools\n",
    "from sklearn.preprocessing import MinMaxScaler,StandardScaler\n",
    "import torch.nn as nn\n",
    "from datetime import date\n",
    "\n",
    "import evaluation\n",
    "import resultsHandler as rh"
   ]
  },
  {
   "cell_type": "markdown",
   "metadata": {},
   "source": [
    "### with OPD"
   ]
  },
  {
   "cell_type": "code",
   "execution_count": null,
   "metadata": {
    "scrolled": true,
    "tags": []
   },
   "outputs": [],
   "source": [
    "kfold_splits = 10\n",
    "repetitions = 30\n",
    "\n",
    "\n",
    "###################### Seeds ######################\n",
    "seeds = list(range(repetitions))\n",
    "###################################################\n",
    "\n",
    "######################## to_numpy method ########################\n",
    "def to_numpy(OPD_samples):\n",
    "    \n",
    "    features = ['MDVP:Fo(Hz)', 'MDVP:Fhi(Hz)', 'MDVP:Flo(Hz)', 'MDVP:Jitter(%)', 'MDVP:Jitter(Abs)', 'MDVP:RAP', \n",
    "                'MDVP:PPQ', 'Jitter:DDP', 'MDVP:Shimmer', 'MDVP:Shimmer(dB)', 'Shimmer:APQ3', 'Shimmer:APQ5', \n",
    "                'MDVP:APQ', 'Shimmer:DDA', 'NHR', 'HNR', 'RPDE', 'DFA', 'spread1', 'spread2', 'D2', 'PPE']\n",
    "    \n",
    "    X = OPD_samples[features].to_numpy()\n",
    "    y = OPD_samples['status'].to_numpy()\n",
    "    \n",
    "    return X, y\n",
    "#################################################################\n",
    "\n",
    "######################## Global settings ########################\n",
    "preprocessors = [StandardScaler, MinMaxScaler]\n",
    "preprocessing_methods = ['X only']\n",
    "global_settings = list(itertools.product(preprocessors,preprocessing_methods))\n",
    "##################################################################\n",
    "\n",
    "######################## Ozkan settings ########################\n",
    "components = [2,5,8,11,14]\n",
    "ks = [1,3,5,7,9,11]\n",
    "ozkan_settings = list(itertools.product(components,ks))\n",
    "################################################################\n",
    "\n",
    "######################## Caliskan settings ########################\n",
    "lrses = [[0.003]*4,[0.03]*4,]\n",
    "epochses = [[400]*4,[200]*4,[100]*4]\n",
    "rhoses = [[0.15,0.25],]\n",
    "lamses = [[0.03,0.03],]\n",
    "Bses = [[2,2],]\n",
    "activationses = [[nn.ReLU,nn.Tanh],[nn.ReLU,nn.Sigmoid],[nn.ReLU,nn.ReLU]]\n",
    "latent_sizes = [4,6]\n",
    "caliskan_settings = list(itertools.product(lrses,epochses,rhoses,lamses,Bses,activationses,latent_sizes))\n",
    "###################################################################\n",
    "\n",
    "######################## Ul-Haq settings ########################\n",
    "kernels = ['rbf','linear']\n",
    "gammas = ['scale','auto',0.4,0.3,0.2,0.09,0.075,0.04]\n",
    "Cs = [1,5,10]\n",
    "num_featureses = [6,8,10,12,14,16,18,20] #best at 10 in paper\n",
    "ulhaq_settings = list(itertools.product(kernels,gammas,Cs,num_featureses))\n",
    "#################################################################"
   ]
  },
  {
   "cell_type": "code",
   "execution_count": null,
   "metadata": {
    "scrolled": true
   },
   "outputs": [],
   "source": [
    "import warnings\n",
    "with warnings.catch_warnings():\n",
    "    warnings.simplefilter(\"ignore\")\n",
    "    repeated_kfold_results,repeated_traintest_results = evaluation.unmodified('OPD',OPD_samples,OPD_participants,to_numpy,\n",
    "                                             global_settings,ozkan_settings,caliskan_settings,ulhaq_settings,\n",
    "                                             ozkan_method=ozkan,caliskan_method=caliskan,ulhaq_method=ulhaq,\n",
    "                                             seeds=seeds,repetitions=repetitions,verbose_odds=0,#0.025\n",
    "                                             n_splits=kfold_splits,training_split=0.7)"
   ]
  },
  {
   "cell_type": "code",
   "execution_count": null,
   "metadata": {
    "scrolled": false
   },
   "outputs": [],
   "source": [
    "rh.print_results(repeated_kfold_results,top=3)\n",
    "rh.print_results(repeated_traintest_results,top=3)\n",
    "\n",
    "d = date.today().strftime(\"%d%B%y\")\n",
    "dl.pickleSave(repeated_kfold_results,join('Results','repeated_kfold with OPD unmodified ' + d + '.pickle'))\n",
    "dl.pickleSave(repeated_traintest_results,join('Results','repeated_traintest with OPD unmodified' + d + '.pickle'))"
   ]
  },
  {
   "cell_type": "markdown",
   "metadata": {},
   "source": [
    "### with mPower"
   ]
  },
  {
   "cell_type": "code",
   "execution_count": null,
   "metadata": {
    "tags": []
   },
   "outputs": [],
   "source": [
    "kfold_splits = 10\n",
    "repetitions = 10\n",
    "\n",
    "###################### Seeds ######################\n",
    "seeds = list(range(repetitions))\n",
    "###################################################\n",
    "\n",
    "######################## to_numpy method ########################\n",
    "\n",
    "def to_numpy(mPower_samples):\n",
    "\n",
    "    features = ['Mean pitch (Hz)','Minimum pitch (Hz)','Maximum pitch (Hz)','Jitter (local) (%)','Jitter (local, absolute)','Jitter (rap) (%)','Jitter (ppq5) (%)','Jitter (ddp) (%)',\n",
    "                'Shimmer (local) (%)','Shimmer (local, dB) (dB)','Shimmer (apq3) (%)','Shimmer (apq5) (%)','Shimmer (apq11) (%)','Shimmer (dda) (%)',\n",
    "                'Mean noise-to-harmonics ratio','Mean harmonics-to-noise ratio (dB)','spread1 (negative entropy of F0)','spread2 (standard error of F0)','PPE','DFA','RPDE','d2']\n",
    "    \n",
    "    X = mPower_samples[features].to_numpy().astype(float)\n",
    "    y = (mPower_samples['professional-diagnosis']*1).to_numpy(dtype='int64')\n",
    "    \n",
    "    return X, y\n",
    "\n",
    "#################################################################\n",
    "\n",
    "######################## Global settings ########################\n",
    "preprocessors = [StandardScaler, MinMaxScaler]\n",
    "preprocessing_methods = ['X only']\n",
    "global_settings = list(itertools.product(preprocessors,preprocessing_methods))\n",
    "##################################################################\n",
    "\n",
    "######################## Ozkan settings ########################\n",
    "components = [5,8,12,16]\n",
    "ks = [1,5,9,11]\n",
    "ozkan_settings = list(itertools.product(components,ks))\n",
    "################################################################\n",
    "\n",
    "######################## Caliskan settings ########################\n",
    "lrses = [[0.03]*4,[0.003]*4,]\n",
    "epochses = [[50]*4]\n",
    "rhoses = [[0.15,0.25],]\n",
    "lamses = [[0.03,0.03],]\n",
    "Bses = [[2,2],]\n",
    "activationses = [[nn.ReLU,nn.Sigmoid],[nn.ReLU,nn.ReLU],]\n",
    "latent_sizes = [4,6,]\n",
    "caliskan_settings = list(itertools.product(lrses,epochses,rhoses,lamses,Bses,activationses,latent_sizes))\n",
    "###################################################################\n",
    "\n",
    "######################## Ul-Haq settings ########################\n",
    "kernels = ['rbf','linear']\n",
    "gammas = ['scale','auto',0.2,0.1,0.005,0.0001]\n",
    "Cs = [1,10]\n",
    "num_featureses = [5,10,15,20] #best at 10 in paper\n",
    "ulhaq_settings = list(itertools.product(kernels,gammas,Cs,num_featureses))\n",
    "#################################################################"
   ]
  },
  {
   "cell_type": "code",
   "execution_count": null,
   "metadata": {
    "scrolled": true
   },
   "outputs": [],
   "source": [
    "repeated_kfold_results,repeated_traintest_results = evaluation.unmodified('mPower',mPower_samples,mPower_participants,to_numpy,\n",
    "                                             global_settings,ozkan_settings,caliskan_settings,ulhaq_settings,\n",
    "                                             ozkan_method=ozkan,caliskan_method=caliskan,ulhaq_method=ulhaq,\n",
    "                                             seeds=seeds,repetitions=repetitions,verbose_odds=0,#0.025\n",
    "                                             n_splits=kfold_splits,training_split=0.7)"
   ]
  },
  {
   "cell_type": "code",
   "execution_count": null,
   "metadata": {},
   "outputs": [],
   "source": [
    "rh.print_results(repeated_kfold_results,top=2)\n",
    "rh.print_results(repeated_traintest_results,top=2)\n",
    "\n",
    "d = date.today().strftime(\"%d%B%y\")\n",
    "dl.pickleSave(repeated_kfold_results,join('Results','repeated_kfold with mPower unmodified ' + d + '.pickle'))\n",
    "dl.pickleSave(repeated_traintest_results,join('Results','repeated_traintest with mPower unmodified' + d + '.pickle'))"
   ]
  },
  {
   "cell_type": "markdown",
   "metadata": {},
   "source": [
    "## Evaluate the models (MODIFIED)\n",
    "\n",
    "### with OPD"
   ]
  },
  {
   "cell_type": "code",
   "execution_count": null,
   "metadata": {},
   "outputs": [],
   "source": [
    "kfold_splits = 8\n",
    "repetitions = 30\n",
    "\n",
    "###################### Seeds ######################\n",
    "seeds = list(range(repetitions))\n",
    "###################################################\n",
    "\n",
    "\n",
    "######################## to_numpy method ########################\n",
    "\n",
    "def to_numpy(OPD_samples):\n",
    "    \n",
    "    features = ['MDVP:Fo(Hz)', 'MDVP:Fhi(Hz)', 'MDVP:Flo(Hz)', 'MDVP:Jitter(%)', 'MDVP:Jitter(Abs)', 'MDVP:RAP', \n",
    "                'MDVP:PPQ', 'Jitter:DDP', 'MDVP:Shimmer', 'MDVP:Shimmer(dB)', 'Shimmer:APQ3', 'Shimmer:APQ5', \n",
    "                'MDVP:APQ', 'Shimmer:DDA', 'NHR', 'HNR', 'RPDE', 'DFA', 'spread1', 'spread2', 'D2', 'PPE']\n",
    "    \n",
    "    X = OPD_samples[features].to_numpy()\n",
    "    y = OPD_samples['status'].to_numpy()\n",
    "    \n",
    "    return X, y\n",
    "\n",
    "#################################################################\n",
    "\n",
    "\n",
    "#The model we will be using for Ozkan is \"ozkan PCA_14 k_1 MinMaxScaler X only\"\n",
    "#This was the best model for 10fold CV, and best for 70/30 split\n",
    "\n",
    "#The model we will be using for Caliskan is \"caliskan ReLU Sigmoid latent:6, epochs:400, lr:0.0030 MinMaxScaler X only\"\n",
    "#This was the 2nd best model for 10fold CV, and best for 70/30 split\n",
    "\n",
    "#The model we will be using for Ul-Haq is \"ulhaq rbf gamma:0.2000 C:5 num_features:14 StandardScaler X only\"\n",
    "#This was the 2nd best model for both 10fold CV and 70/30 split\n",
    "\n",
    "######################## Global settings ########################\n",
    "preprocessors = [MinMaxScaler,StandardScaler]\n",
    "preprocessing_methods = ['X only']\n",
    "global_settings = list(itertools.product(preprocessors,preprocessing_methods))\n",
    "##################################################################\n",
    "\n",
    "######################## Ozkan settings ########################\n",
    "components = [14]\n",
    "ks = [1]\n",
    "ozkan_settings = list(itertools.product(components,ks))\n",
    "################################################################\n",
    "\n",
    "######################## Caliskan settings ########################\n",
    "lrses = [[0.003]*4]\n",
    "epochses = [[400]*4]\n",
    "rhoses = [[0.15,0.25],]\n",
    "lamses = [[0.03,0.03],]\n",
    "Bses = [[2,2],]\n",
    "activationses = [[nn.ReLU,nn.Sigmoid]]\n",
    "latent_sizes = [6,]\n",
    "caliskan_settings = list(itertools.product(lrses,epochses,rhoses,lamses,Bses,activationses,latent_sizes))\n",
    "###################################################################\n",
    "\n",
    "######################## Ul-Haq settings ########################\n",
    "kernels = ['rbf']\n",
    "gammas = [0.2]\n",
    "Cs = [5]\n",
    "num_featureses = [14] #best at 10 in paper\n",
    "ulhaq_settings = list(itertools.product(kernels,gammas,Cs,num_featureses))\n",
    "#################################################################"
   ]
  },
  {
   "cell_type": "code",
   "execution_count": null,
   "metadata": {
    "scrolled": true
   },
   "outputs": [],
   "source": [
    "repeated_kfold_results,repeated_traintest_results = evaluation.modified_OPD(OPD_samples,OPD_participants,to_numpy,\n",
    "                                             global_settings,ozkan_settings,caliskan_settings,ulhaq_settings,\n",
    "                                             ozkan_method=ozkan,caliskan_method=caliskan,ulhaq_method=ulhaq,\n",
    "                                             seeds=seeds,repetitions=repetitions,verbose_odds=0.005,#0.025\n",
    "                                             n_splits=kfold_splits,training_split=0.7)"
   ]
  },
  {
   "cell_type": "code",
   "execution_count": null,
   "metadata": {},
   "outputs": [],
   "source": [
    "rh.print_results(repeated_kfold_results,top=5)\n",
    "rh.print_results(repeated_traintest_results,top=5)\n",
    "\n",
    "d = date.today().strftime(\"%d%B%y\")\n",
    "dl.pickleSave(repeated_kfold_results,join('Results','repeated_kfold with OPD modified ' + d + '.pickle'))\n",
    "dl.pickleSave(repeated_traintest_results,join('Results','repeated_traintest with OPD modified' + d + '.pickle'))"
   ]
  },
  {
   "cell_type": "markdown",
   "metadata": {},
   "source": [
    "### with mPower"
   ]
  },
  {
   "cell_type": "code",
   "execution_count": null,
   "metadata": {},
   "outputs": [],
   "source": [
    "kfold_splits = 5\n",
    "repetitions = 10\n",
    "\n",
    "###################### Seeds ######################\n",
    "seeds = list(range(repetitions))\n",
    "###################################################\n",
    "\n",
    "\n",
    "######################## to_numpy method ########################\n",
    "\n",
    "def to_numpy(mPower_samples):\n",
    "\n",
    "    features = ['Mean pitch (Hz)','Minimum pitch (Hz)','Maximum pitch (Hz)','Jitter (local) (%)','Jitter (local, absolute)','Jitter (rap) (%)','Jitter (ppq5) (%)','Jitter (ddp) (%)',\n",
    "                'Shimmer (local) (%)','Shimmer (local, dB) (dB)','Shimmer (apq3) (%)','Shimmer (apq5) (%)','Shimmer (apq11) (%)','Shimmer (dda) (%)',\n",
    "                'Mean noise-to-harmonics ratio','Mean harmonics-to-noise ratio (dB)','spread1 (negative entropy of F0)','spread2 (standard error of F0)','PPE','DFA','RPDE','d2']\n",
    "    \n",
    "    X = mPower_samples[features].to_numpy()\n",
    "    y = (mPower_samples['professional-diagnosis']*1).to_numpy(dtype='int64')\n",
    "    \n",
    "    return X, y\n",
    "\n",
    "#################################################################\n",
    "\n",
    "\n",
    "#The model we will be using for Ozkan is \"ozkan PCA_16 k_11 StandardScaler X only\"\n",
    "#This was the best model for both 10fold CV and 70/30 split\n",
    "\n",
    "#The model we will be using for Caliskan is \"caliskan ReLU Sigmoid latent:6, epochs:50, lr:0.0030 StandardScaler X only\"\n",
    "#This was the best model for both 10fold CV and 70/30 split\n",
    "\n",
    "#The model we will be using for Ulhaq is \"ulhaq rbf gamma:scale C:10 num_features:20 StandardScaler X only\"\n",
    "#This was the 2nd best model for 10fold CV and best for 70/30 split\n",
    "\n",
    "\n",
    "######################## Global settings ########################\n",
    "preprocessors = [StandardScaler]\n",
    "preprocessing_methods = ['X only']\n",
    "global_settings = list(itertools.product(preprocessors,preprocessing_methods))\n",
    "##################################################################\n",
    "\n",
    "######################## Ozkan settings ########################\n",
    "components = [16]\n",
    "ks = [11]\n",
    "ozkan_settings = list(itertools.product(components,ks))\n",
    "################################################################\n",
    "\n",
    "######################## Caliskan settings ########################\n",
    "lrses = [[0.003]*4,]\n",
    "epochses = [[50]*4,]\n",
    "rhoses = [[0.15,0.25],]\n",
    "lamses = [[0.03,0.03],]\n",
    "Bses = [[2,2],]\n",
    "activationses = [[nn.ReLU,nn.Sigmoid],]\n",
    "latent_sizes = [6,]\n",
    "caliskan_settings = list(itertools.product(lrses,epochses,rhoses,lamses,Bses,activationses,latent_sizes))\n",
    "###################################################################\n",
    "\n",
    "######################## Ul-Haq settings ########################\n",
    "kernels = ['rbf']\n",
    "gammas = ['scale']\n",
    "Cs = [10]\n",
    "num_featureses = [20] #best at 10 in paper\n",
    "ulhaq_settings = list(itertools.product(kernels,gammas,Cs,num_featureses))\n",
    "#################################################################"
   ]
  },
  {
   "cell_type": "code",
   "execution_count": null,
   "metadata": {},
   "outputs": [],
   "source": [
    "repeated_kfold_results,repeated_traintest_results = evaluation.modified_mPower(mPower_samples,mPower_participants,to_numpy,\n",
    "                                             global_settings,ozkan_settings,caliskan_settings,ulhaq_settings,\n",
    "                                             ozkan_method=ozkan,caliskan_method=caliskan,ulhaq_method=ulhaq,\n",
    "                                             seeds=seeds,repetitions=repetitions,verbose_odds=0.0025,#0.025\n",
    "                                             n_splits=kfold_splits,training_split=0.7,age_range=3)"
   ]
  },
  {
   "cell_type": "code",
   "execution_count": null,
   "metadata": {},
   "outputs": [],
   "source": [
    "rh.print_results(repeated_kfold_results,top=1)\n",
    "rh.print_results(repeated_traintest_results,top=1)\n",
    "\n",
    "d = date.today().strftime(\"%d%B%y\")\n",
    "dl.pickleSave(repeated_kfold_results,join('Results','repeated_kfold with mPower modified ' + d + '.pickle'))\n",
    "dl.pickleSave(repeated_traintest_results,join('Results','repeated_traintest with mPower modified' + d + '.pickle'))"
   ]
  }
 ],
 "metadata": {
  "kernelspec": {
   "display_name": "Python (PD Voice Replication 2)\n",
   "language": "python",
   "name": "pd_voice_replication_2"
  },
  "language_info": {
   "codemirror_mode": {
    "name": "ipython",
    "version": 3
   },
   "file_extension": ".py",
   "mimetype": "text/x-python",
   "name": "python",
   "nbconvert_exporter": "python",
   "pygments_lexer": "ipython3",
   "version": "3.8.11"
  }
 },
 "nbformat": 4,
 "nbformat_minor": 4
}
